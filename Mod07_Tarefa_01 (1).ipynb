{
 "cells": [
  {
   "cell_type": "markdown",
   "metadata": {
    "id": "d8yCrvnM_2sd"
   },
   "source": [
    "# Módulo 07, Tarefa 01\n",
    "\n",
    "Vamos começar a mexer na nossa base de projeto? Já fizemos um exercício de montar a variável resposta, já pudemos perceber que essa atividade pode não ser trivial. Vamos agora trabalhar a base para que fique propícia ao *scikitlearn* para trabalharmos.\n",
    "\n",
    "Lembrando, a base se chama demo01.csv, e originalmente está publicada [aqui](https://www.kaggle.com/rikdifos/credit-card-approval-prediction)."
   ]
  },
  {
   "cell_type": "markdown",
   "metadata": {
    "id": "hcMBVVE8_2sg"
   },
   "source": [
    "#### 1) Carregue a base e avalie:\n",
    "\n",
    "- As variáveis\n",
    "- Tipos de dados de cada variável\n",
    "- Quantidade de missings\n",
    "- Distribuição da variável resposta (mau)"
   ]
  },
  {
   "cell_type": "code",
   "execution_count": 3,
   "metadata": {
    "id": "jfUxW_PX_2sh"
   },
   "outputs": [],
   "source": [
    "import numpy as np\n",
    "import pandas as pd\n",
    "import seaborn as sns"
   ]
  },
  {
   "cell_type": "code",
   "execution_count": 5,
   "metadata": {},
   "outputs": [
    {
     "data": {
      "text/html": [
       "<div>\n",
       "<style scoped>\n",
       "    .dataframe tbody tr th:only-of-type {\n",
       "        vertical-align: middle;\n",
       "    }\n",
       "\n",
       "    .dataframe tbody tr th {\n",
       "        vertical-align: top;\n",
       "    }\n",
       "\n",
       "    .dataframe thead th {\n",
       "        text-align: right;\n",
       "    }\n",
       "</style>\n",
       "<table border=\"1\" class=\"dataframe\">\n",
       "  <thead>\n",
       "    <tr style=\"text-align: right;\">\n",
       "      <th></th>\n",
       "      <th>sexo</th>\n",
       "      <th>posse_de_veiculo</th>\n",
       "      <th>posse_de_imovel</th>\n",
       "      <th>qtd_filhos</th>\n",
       "      <th>tipo_renda</th>\n",
       "      <th>educacao</th>\n",
       "      <th>estado_civil</th>\n",
       "      <th>tipo_residencia</th>\n",
       "      <th>idade</th>\n",
       "      <th>tempo_emprego</th>\n",
       "      <th>possui_celular</th>\n",
       "      <th>possui_fone_comercial</th>\n",
       "      <th>possui_fone</th>\n",
       "      <th>possui_email</th>\n",
       "      <th>qt_pessoas_residencia</th>\n",
       "      <th>mau</th>\n",
       "    </tr>\n",
       "  </thead>\n",
       "  <tbody>\n",
       "    <tr>\n",
       "      <th>0</th>\n",
       "      <td>M</td>\n",
       "      <td>Y</td>\n",
       "      <td>Y</td>\n",
       "      <td>0</td>\n",
       "      <td>Working</td>\n",
       "      <td>Secondary / secondary special</td>\n",
       "      <td>Married</td>\n",
       "      <td>House / apartment</td>\n",
       "      <td>58.832877</td>\n",
       "      <td>3.106849</td>\n",
       "      <td>1</td>\n",
       "      <td>0</td>\n",
       "      <td>0</td>\n",
       "      <td>0</td>\n",
       "      <td>2.0</td>\n",
       "      <td>False</td>\n",
       "    </tr>\n",
       "    <tr>\n",
       "      <th>1</th>\n",
       "      <td>F</td>\n",
       "      <td>N</td>\n",
       "      <td>Y</td>\n",
       "      <td>0</td>\n",
       "      <td>Commercial associate</td>\n",
       "      <td>Secondary / secondary special</td>\n",
       "      <td>Single / not married</td>\n",
       "      <td>House / apartment</td>\n",
       "      <td>52.356164</td>\n",
       "      <td>8.358904</td>\n",
       "      <td>1</td>\n",
       "      <td>0</td>\n",
       "      <td>1</td>\n",
       "      <td>1</td>\n",
       "      <td>1.0</td>\n",
       "      <td>False</td>\n",
       "    </tr>\n",
       "    <tr>\n",
       "      <th>2</th>\n",
       "      <td>F</td>\n",
       "      <td>N</td>\n",
       "      <td>Y</td>\n",
       "      <td>0</td>\n",
       "      <td>Commercial associate</td>\n",
       "      <td>Secondary / secondary special</td>\n",
       "      <td>Single / not married</td>\n",
       "      <td>House / apartment</td>\n",
       "      <td>52.356164</td>\n",
       "      <td>8.358904</td>\n",
       "      <td>1</td>\n",
       "      <td>0</td>\n",
       "      <td>1</td>\n",
       "      <td>1</td>\n",
       "      <td>1.0</td>\n",
       "      <td>False</td>\n",
       "    </tr>\n",
       "    <tr>\n",
       "      <th>3</th>\n",
       "      <td>M</td>\n",
       "      <td>Y</td>\n",
       "      <td>Y</td>\n",
       "      <td>0</td>\n",
       "      <td>Working</td>\n",
       "      <td>Higher education</td>\n",
       "      <td>Married</td>\n",
       "      <td>House / apartment</td>\n",
       "      <td>46.224658</td>\n",
       "      <td>2.106849</td>\n",
       "      <td>1</td>\n",
       "      <td>1</td>\n",
       "      <td>1</td>\n",
       "      <td>1</td>\n",
       "      <td>2.0</td>\n",
       "      <td>False</td>\n",
       "    </tr>\n",
       "    <tr>\n",
       "      <th>4</th>\n",
       "      <td>F</td>\n",
       "      <td>Y</td>\n",
       "      <td>N</td>\n",
       "      <td>0</td>\n",
       "      <td>Working</td>\n",
       "      <td>Incomplete higher</td>\n",
       "      <td>Married</td>\n",
       "      <td>House / apartment</td>\n",
       "      <td>29.230137</td>\n",
       "      <td>3.021918</td>\n",
       "      <td>1</td>\n",
       "      <td>0</td>\n",
       "      <td>0</td>\n",
       "      <td>0</td>\n",
       "      <td>2.0</td>\n",
       "      <td>False</td>\n",
       "    </tr>\n",
       "  </tbody>\n",
       "</table>\n",
       "</div>"
      ],
      "text/plain": [
       "  sexo posse_de_veiculo posse_de_imovel  qtd_filhos            tipo_renda  \\\n",
       "0    M                Y               Y           0               Working   \n",
       "1    F                N               Y           0  Commercial associate   \n",
       "2    F                N               Y           0  Commercial associate   \n",
       "3    M                Y               Y           0               Working   \n",
       "4    F                Y               N           0               Working   \n",
       "\n",
       "                        educacao          estado_civil    tipo_residencia  \\\n",
       "0  Secondary / secondary special               Married  House / apartment   \n",
       "1  Secondary / secondary special  Single / not married  House / apartment   \n",
       "2  Secondary / secondary special  Single / not married  House / apartment   \n",
       "3               Higher education               Married  House / apartment   \n",
       "4              Incomplete higher               Married  House / apartment   \n",
       "\n",
       "       idade  tempo_emprego  possui_celular  possui_fone_comercial  \\\n",
       "0  58.832877       3.106849               1                      0   \n",
       "1  52.356164       8.358904               1                      0   \n",
       "2  52.356164       8.358904               1                      0   \n",
       "3  46.224658       2.106849               1                      1   \n",
       "4  29.230137       3.021918               1                      0   \n",
       "\n",
       "   possui_fone  possui_email  qt_pessoas_residencia    mau  \n",
       "0            0             0                    2.0  False  \n",
       "1            1             1                    1.0  False  \n",
       "2            1             1                    1.0  False  \n",
       "3            1             1                    2.0  False  \n",
       "4            0             0                    2.0  False  "
      ]
     },
     "execution_count": 5,
     "metadata": {},
     "output_type": "execute_result"
    }
   ],
   "source": [
    "cliente = pd.read_csv('demo01.csv')\n",
    "cliente.head()"
   ]
  },
  {
   "cell_type": "code",
   "execution_count": 7,
   "metadata": {},
   "outputs": [
    {
     "name": "stdout",
     "output_type": "stream",
     "text": [
      "<class 'pandas.core.frame.DataFrame'>\n",
      "RangeIndex: 16650 entries, 0 to 16649\n",
      "Data columns (total 16 columns):\n",
      " #   Column                 Non-Null Count  Dtype  \n",
      "---  ------                 --------------  -----  \n",
      " 0   sexo                   16650 non-null  object \n",
      " 1   posse_de_veiculo       16650 non-null  object \n",
      " 2   posse_de_imovel        16650 non-null  object \n",
      " 3   qtd_filhos             16650 non-null  int64  \n",
      " 4   tipo_renda             16650 non-null  object \n",
      " 5   educacao               16650 non-null  object \n",
      " 6   estado_civil           16650 non-null  object \n",
      " 7   tipo_residencia        16650 non-null  object \n",
      " 8   idade                  16650 non-null  float64\n",
      " 9   tempo_emprego          16650 non-null  float64\n",
      " 10  possui_celular         16650 non-null  int64  \n",
      " 11  possui_fone_comercial  16650 non-null  int64  \n",
      " 12  possui_fone            16650 non-null  int64  \n",
      " 13  possui_email           16650 non-null  int64  \n",
      " 14  qt_pessoas_residencia  16650 non-null  float64\n",
      " 15  mau                    16650 non-null  bool   \n",
      "dtypes: bool(1), float64(3), int64(5), object(7)\n",
      "memory usage: 1.9+ MB\n",
      "None\n",
      "sexo                     0\n",
      "posse_de_veiculo         0\n",
      "posse_de_imovel          0\n",
      "qtd_filhos               0\n",
      "tipo_renda               0\n",
      "educacao                 0\n",
      "estado_civil             0\n",
      "tipo_residencia          0\n",
      "idade                    0\n",
      "tempo_emprego            0\n",
      "possui_celular           0\n",
      "possui_fone_comercial    0\n",
      "possui_fone              0\n",
      "possui_email             0\n",
      "qt_pessoas_residencia    0\n",
      "mau                      0\n",
      "dtype: int64\n",
      "mau\n",
      "False    16260\n",
      "True       390\n",
      "Name: count, dtype: int64\n"
     ]
    }
   ],
   "source": [
    "# Informações sobre as colunas\n",
    "print(cliente.info())\n",
    "\n",
    "# Verificando valores ausentes\n",
    "print(cliente.isnull().sum())\n",
    "\n",
    "# Distribuição da variável resposta\n",
    "print(cliente['mau'].value_counts())"
   ]
  },
  {
   "cell_type": "markdown",
   "metadata": {
    "id": "_v0f02mE_2si"
   },
   "source": [
    "#### 2) Vamos montar um metadados\n",
    "\n",
    "1. Crie um dataframe com os nomes de cada variável e o tipo de dados de cada variável.\n",
    "2. Adicione uma coluna nesse *dataframe* chamada \"qtd_categorias\" e coloque nela o número de categorias correspondente de cada variável.\n",
    "    Dica:\n",
    "        1. inicie uma lista vazia\n",
    "        2. faça um for ao longo dos nomes das variáveis,\n",
    "        3. conte o número de categorias dessa variável\n",
    "        4. acumule essa informação de 3. na lista que você criou em 1.\n",
    "        5. No final, essa lista pode ser atribuída à nossa variável."
   ]
  },
  {
   "cell_type": "code",
   "execution_count": 9,
   "metadata": {
    "id": "gNF5BRdA_2si"
   },
   "outputs": [
    {
     "name": "stdout",
     "output_type": "stream",
     "text": [
      "                 variavel tipo_dado  qtd_categorias\n",
      "0                    sexo       NaN               2\n",
      "1        posse_de_veiculo       NaN               2\n",
      "2         posse_de_imovel       NaN               2\n",
      "3              qtd_filhos       NaN               8\n",
      "4              tipo_renda       NaN               5\n",
      "5                educacao       NaN               5\n",
      "6            estado_civil       NaN               5\n",
      "7         tipo_residencia       NaN               6\n",
      "8                   idade       NaN            5298\n",
      "9           tempo_emprego       NaN            3005\n",
      "10         possui_celular       NaN               1\n",
      "11  possui_fone_comercial       NaN               2\n",
      "12            possui_fone       NaN               2\n",
      "13           possui_email       NaN               2\n",
      "14  qt_pessoas_residencia       NaN               9\n",
      "15                    mau       NaN               2\n"
     ]
    }
   ],
   "source": [
    "metadados = pd.DataFrame({'variavel': cliente.columns})\n",
    "metadados['tipo_dado'] = cliente.dtypes\n",
    "metadados['qtd_categorias'] = [len(cliente[col].unique()) for col in cliente.columns]\n",
    "print(metadados)"
   ]
  },
  {
   "cell_type": "markdown",
   "metadata": {
    "id": "h0XKJFhY_2si"
   },
   "source": [
    "#### 3) Crie variáveis dummy para as variáveis necessárias (i.e. aquelas que são qualitativas e não estão armazenadas como {0, 1} ou {True, False}. Crie um *dataframe* apenas com as variáveis apropriadas para entrada no scikitlearn - elimine as variáveis tipo *str*, mantendo apenas suas versões *dummy*."
   ]
  },
  {
   "cell_type": "code",
   "execution_count": 19,
   "metadata": {
    "id": "ePbdZDOi_2sj"
   },
   "outputs": [
    {
     "name": "stdout",
     "output_type": "stream",
     "text": [
      "   qtd_filhos      idade  tempo_emprego  possui_celular  \\\n",
      "0           0  58.832877       3.106849               1   \n",
      "1           0  52.356164       8.358904               1   \n",
      "2           0  52.356164       8.358904               1   \n",
      "3           0  46.224658       2.106849               1   \n",
      "4           0  29.230137       3.021918               1   \n",
      "\n",
      "   possui_fone_comercial  possui_fone  possui_email  qt_pessoas_residencia  \\\n",
      "0                      0            0             0                    2.0   \n",
      "1                      0            1             1                    1.0   \n",
      "2                      0            1             1                    1.0   \n",
      "3                      1            1             1                    2.0   \n",
      "4                      0            0             0                    2.0   \n",
      "\n",
      "     mau  sexo_M  ...  educacao_Secondary / secondary special  \\\n",
      "0  False    True  ...                                    True   \n",
      "1  False   False  ...                                    True   \n",
      "2  False   False  ...                                    True   \n",
      "3  False    True  ...                                   False   \n",
      "4  False   False  ...                                   False   \n",
      "\n",
      "   estado_civil_Married  estado_civil_Separated  \\\n",
      "0                  True                   False   \n",
      "1                 False                   False   \n",
      "2                 False                   False   \n",
      "3                  True                   False   \n",
      "4                  True                   False   \n",
      "\n",
      "   estado_civil_Single / not married  estado_civil_Widow  \\\n",
      "0                              False               False   \n",
      "1                               True               False   \n",
      "2                               True               False   \n",
      "3                              False               False   \n",
      "4                              False               False   \n",
      "\n",
      "   tipo_residencia_House / apartment  tipo_residencia_Municipal apartment  \\\n",
      "0                               True                                False   \n",
      "1                               True                                False   \n",
      "2                               True                                False   \n",
      "3                               True                                False   \n",
      "4                               True                                False   \n",
      "\n",
      "   tipo_residencia_Office apartment  tipo_residencia_Rented apartment  \\\n",
      "0                             False                             False   \n",
      "1                             False                             False   \n",
      "2                             False                             False   \n",
      "3                             False                             False   \n",
      "4                             False                             False   \n",
      "\n",
      "   tipo_residencia_With parents  \n",
      "0                         False  \n",
      "1                         False  \n",
      "2                         False  \n",
      "3                         False  \n",
      "4                         False  \n",
      "\n",
      "[5 rows x 29 columns]\n"
     ]
    }
   ],
   "source": [
    "# Identificando variáveis categóricas\n",
    "categorical_cols = cliente.select_dtypes(include=['object']).columns\n",
    "\n",
    "# Criando variáveis dummy\n",
    "cliente_dummy = pd.get_dummies(cliente, columns=categorical_cols, drop_first=True)\n",
    "\n",
    "# Não é necessário excluir as variáveis originais pois elas já foram substituídas\n",
    "# cliente_dummy.drop(categorical_cols, axis=1, inplace=True)\n",
    "\n",
    "print(cliente_dummy.head())"
   ]
  },
  {
   "cell_type": "markdown",
   "metadata": {
    "id": "uhaqFcPE_2sj"
   },
   "source": [
    "#### 4) Qual variável é mais poderosa?\n",
    "\n",
    "Considere as variáveis ```possui_email``` e ```posse_de_veiculo```. Faça uma tabela cruzada entre elas e responda qual delas te parece mais poderosa para prever a probabilidade de ```mau = 1```?"
   ]
  },
  {
   "cell_type": "code",
   "execution_count": 22,
   "metadata": {
    "id": "3wUAHc_-_2sj"
   },
   "outputs": [
    {
     "data": {
      "text/html": [
       "<div>\n",
       "<style scoped>\n",
       "    .dataframe tbody tr th:only-of-type {\n",
       "        vertical-align: middle;\n",
       "    }\n",
       "\n",
       "    .dataframe tbody tr th {\n",
       "        vertical-align: top;\n",
       "    }\n",
       "\n",
       "    .dataframe thead th {\n",
       "        text-align: right;\n",
       "    }\n",
       "</style>\n",
       "<table border=\"1\" class=\"dataframe\">\n",
       "  <thead>\n",
       "    <tr style=\"text-align: right;\">\n",
       "      <th>posse_de_veiculo</th>\n",
       "      <th>N</th>\n",
       "      <th>Y</th>\n",
       "    </tr>\n",
       "    <tr>\n",
       "      <th>possui_email</th>\n",
       "      <th></th>\n",
       "      <th></th>\n",
       "    </tr>\n",
       "  </thead>\n",
       "  <tbody>\n",
       "    <tr>\n",
       "      <th>0</th>\n",
       "      <td>0.024944</td>\n",
       "      <td>0.021788</td>\n",
       "    </tr>\n",
       "    <tr>\n",
       "      <th>1</th>\n",
       "      <td>0.016726</td>\n",
       "      <td>0.024883</td>\n",
       "    </tr>\n",
       "  </tbody>\n",
       "</table>\n",
       "</div>"
      ],
      "text/plain": [
       "posse_de_veiculo         N         Y\n",
       "possui_email                        \n",
       "0                 0.024944  0.021788\n",
       "1                 0.016726  0.024883"
      ]
     },
     "execution_count": 22,
     "metadata": {},
     "output_type": "execute_result"
    }
   ],
   "source": [
    "# Tabela cruzada\n",
    "pd.crosstab(cliente['possui_email'], cliente['posse_de_veiculo'], values=cliente['mau'], aggfunc='mean')"
   ]
  },
  {
   "cell_type": "markdown",
   "metadata": {
    "id": "G2Issl2e_2sj"
   },
   "source": [
    "#### 5) Salve a base, pois ela será utilizada no final deste módulo."
   ]
  },
  {
   "cell_type": "code",
   "execution_count": 25,
   "metadata": {
    "id": "KSEj8OL9_2sk"
   },
   "outputs": [],
   "source": [
    "cliente_dummy.to_csv('cliente_preparado.csv', index=False)"
   ]
  }
 ],
 "metadata": {
  "colab": {
   "provenance": []
  },
  "kernelspec": {
   "display_name": "Python 3 (ipykernel)",
   "language": "python",
   "name": "python3"
  },
  "language_info": {
   "codemirror_mode": {
    "name": "ipython",
    "version": 3
   },
   "file_extension": ".py",
   "mimetype": "text/x-python",
   "name": "python",
   "nbconvert_exporter": "python",
   "pygments_lexer": "ipython3",
   "version": "3.12.4"
  }
 },
 "nbformat": 4,
 "nbformat_minor": 4
}
